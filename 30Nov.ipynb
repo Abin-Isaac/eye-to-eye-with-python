{
  "nbformat": 4,
  "nbformat_minor": 0,
  "metadata": {
    "colab": {
      "name": "30Nov.ipynb",
      "private_outputs": true,
      "provenance": []
    },
    "kernelspec": {
      "name": "python3",
      "display_name": "Python 3"
    },
    "language_info": {
      "name": "python"
    }
  },
  "cells": [
    {
      "cell_type": "markdown",
      "metadata": {
        "id": "u4UTgcLSzUn0"
      },
      "source": [
        " # WAP to plot simple line with suitable X and Y label and title "
      ]
    },
    {
      "cell_type": "code",
      "metadata": {
        "id": "jkIP3ceQyRKI"
      },
      "source": [
        "import matplotlib.pyplot as plt"
      ],
      "execution_count": null,
      "outputs": []
    },
    {
      "cell_type": "code",
      "metadata": {
        "id": "Mkj4DXv3z0am"
      },
      "source": [
        "X = range(1, 50)\n",
        "Y = [value * 3 for value in X]\n",
        "print(\"Values of X:\")\n",
        "print(*range(1,50)) \n",
        "print(\"Values of Y (thrice of X):\")\n",
        "print(Y)"
      ],
      "execution_count": null,
      "outputs": []
    },
    {
      "cell_type": "code",
      "metadata": {
        "id": "beDk3CyIz_ke"
      },
      "source": [
        "# Set a title \n",
        "plt.title('Draw a line.')\n",
        "# Set the x axis label of the current axis.\n",
        "plt.xlabel('x - axis')\n",
        "# Set the y axis label of the current axis.\n",
        "plt.ylabel('y - axis')\n",
        "# Plot lines and/or markers to the Axes.\n",
        "plt.plot(X, Y)\n",
        "# Display the figure.\n",
        "plt.show()"
      ],
      "execution_count": null,
      "outputs": []
    },
    {
      "cell_type": "markdown",
      "metadata": {
        "id": "AjBNQnBY25m6"
      },
      "source": [
        "# WAP to take the axis values from a text file."
      ]
    },
    {
      "cell_type": "code",
      "metadata": {
        "id": "61UEhGtH2XOI"
      },
      "source": [
        "with open(\"test.txt\") as f:\n",
        "    data = f.read()\n",
        "data = data.split('\\n')\n",
        "x = [row.split(' ')[0] for row in data]\n",
        "y = [row.split(' ')[1] for row in data]\n",
        "plt.plot(x, y)\n",
        "# Set the x axis label of the current axis.\n",
        "plt.xlabel('x - axis')\n",
        "# Set the y axis label of the current axis.\n",
        "plt.ylabel('y - axis')\n",
        "# Set a title \n",
        "plt.title('Sample graph!')\n",
        "# Display a figure.\n",
        "plt.show()"
      ],
      "execution_count": null,
      "outputs": []
    }
  ]
}