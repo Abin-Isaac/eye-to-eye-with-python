{
  "nbformat": 4,
  "nbformat_minor": 0,
  "metadata": {
    "colab": {
      "name": "22Nov.ipynb",
      "private_outputs": true,
      "provenance": []
    },
    "kernelspec": {
      "name": "python3",
      "display_name": "Python 3"
    },
    "language_info": {
      "name": "python"
    }
  },
  "cells": [
    {
      "cell_type": "markdown",
      "metadata": {
        "id": "fMypmor5i9IY"
      },
      "source": [
        "# 3 ways to write decorator "
      ]
    },
    {
      "cell_type": "markdown",
      "metadata": {
        "id": "8q84xGCvoIf-"
      },
      "source": [
        "We can use decorator functions to improve the ouput or decorate it!!"
      ]
    },
    {
      "cell_type": "markdown",
      "metadata": {
        "id": "0QWYQj03idrV"
      },
      "source": [
        "Decorator using a variable "
      ]
    },
    {
      "cell_type": "code",
      "metadata": {
        "id": "7_enMBpWiOOe"
      },
      "source": [
        "def decor(func):\n",
        "  def wrap():\n",
        "    print(\"==============\")\n",
        "    func()\n",
        "    print(\"==============\")\n",
        "  return wrap\n",
        "\n",
        "def print_text():\n",
        "  print(\"Hello World!\")\n",
        "\n",
        "\n",
        "decorated = decor(print_text)\n",
        "decorated()\n"
      ],
      "execution_count": null,
      "outputs": []
    },
    {
      "cell_type": "markdown",
      "metadata": {
        "id": "ss53fm1jisBH"
      },
      "source": [
        "Updating the function with the decorator ability "
      ]
    },
    {
      "cell_type": "code",
      "metadata": {
        "id": "O8la-TVWdaGu"
      },
      "source": [
        "def decor(func):\n",
        "  def wrap():\n",
        "    print(\"==============\")\n",
        "    func()\n",
        "    print(\"==============\")\n",
        "  return wrap\n",
        "\n",
        "def print_text():\n",
        "  print(\"Hello World!\")\n",
        "\n",
        "\n",
        "#decorated = decor(print_text)\n",
        "#decorated()\n",
        "\n",
        "\n",
        "print_text = decor(print_text)\n",
        "print_text()"
      ],
      "execution_count": null,
      "outputs": []
    },
    {
      "cell_type": "markdown",
      "metadata": {
        "id": "JQ9XRUwOi0ja"
      },
      "source": [
        "Uisng Python's syntax by uisng @ decorator function name "
      ]
    },
    {
      "cell_type": "code",
      "metadata": {
        "id": "U1uniT61g3vc"
      },
      "source": [
        "def decorate(func):\n",
        "  def wrap():\n",
        "    print(\"==============\")\n",
        "    func()\n",
        "    print(\"==============\")\n",
        "  return wrap\n",
        "\n",
        "@decorate\n",
        "def print_text():\n",
        "  print(\"Hello World!\")\n",
        "\n",
        "print_text()"
      ],
      "execution_count": null,
      "outputs": []
    },
    {
      "cell_type": "markdown",
      "metadata": {
        "id": "1Lkw-ahloTe1"
      },
      "source": [
        "# Learning Recursion - Functional programming"
      ]
    },
    {
      "cell_type": "code",
      "metadata": {
        "id": "1RGmXkXqndBE"
      },
      "source": [
        "def factorial(x):\n",
        "  if x==1:\n",
        "    return 1\n",
        "  else:\n",
        "    return x * factorial(x-1)\n",
        "factorial(6)"
      ],
      "execution_count": null,
      "outputs": []
    },
    {
      "cell_type": "markdown",
      "metadata": {
        "id": "VAXycj73ohEp"
      },
      "source": [
        "if you omit the base case then you will have to face an infinite version which can drain your interpreters memory and crash!"
      ]
    },
    {
      "cell_type": "code",
      "metadata": {
        "id": "V9f8uWZWo46W"
      },
      "source": [
        "def factorial(x):\n",
        "  return x * factorial(x-1)\n",
        "factorial(6)"
      ],
      "execution_count": null,
      "outputs": []
    },
    {
      "cell_type": "markdown",
      "metadata": {
        "id": "ZSU5Asj2whkR"
      },
      "source": [
        " 2 functions are passing one another and they get the even odd out beautifully "
      ]
    },
    {
      "cell_type": "code",
      "metadata": {
        "id": "ukNu-bP1tgD8"
      },
      "source": [
        "def is_even(x):\n",
        "  if x == 0:\n",
        "    return True\n",
        "  else:\n",
        "      return is_odd(x-1)\n",
        "def is_odd(x):\n",
        "  return not is_even(x)\n",
        "\n",
        "print(is_odd(101))\n",
        "print(is_even(26))#Dont try -ive values\n"
      ],
      "execution_count": null,
      "outputs": []
    }
  ]
}