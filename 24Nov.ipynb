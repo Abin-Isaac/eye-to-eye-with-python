{
  "nbformat": 4,
  "nbformat_minor": 0,
  "metadata": {
    "colab": {
      "name": "24Nov.ipynb",
      "private_outputs": true,
      "provenance": []
    },
    "kernelspec": {
      "name": "python3",
      "display_name": "Python 3"
    },
    "language_info": {
      "name": "python"
    }
  },
  "cells": [
    {
      "cell_type": "markdown",
      "metadata": {
        "id": "HS9nYT1dYo_5"
      },
      "source": [
        "# Importing itertools module"
      ]
    },
    {
      "cell_type": "code",
      "metadata": {
        "id": "WZO5SXVAsgYF"
      },
      "source": [
        "import itertools as it "
      ],
      "execution_count": null,
      "outputs": []
    },
    {
      "cell_type": "code",
      "metadata": {
        "id": "EqRdP5cVM5Bo"
      },
      "source": [
        "counter = it.count()\n",
        "list(next(counter) for _ in range(5))"
      ],
      "execution_count": null,
      "outputs": []
    },
    {
      "cell_type": "markdown",
      "metadata": {
        "id": "nZpxOrNQYcZ-"
      },
      "source": [
        "# Only importing count"
      ]
    },
    {
      "cell_type": "code",
      "metadata": {
        "id": "s-1AId01YbsF"
      },
      "source": [
        "from itertools import count "
      ],
      "execution_count": null,
      "outputs": []
    },
    {
      "cell_type": "code",
      "metadata": {
        "id": "31EvvE88NXSi"
      },
      "source": [
        "for i in count(3):\n",
        "  print(i)\n",
        "  if i >=11:  # Enjoy breaks free try commenting the if code\n",
        "    break"
      ],
      "execution_count": null,
      "outputs": []
    },
    {
      "cell_type": "code",
      "metadata": {
        "id": "0_RQCnQrXnhy"
      },
      "source": [
        "list(zip(it.count(), ['a', 'b', 'c']))"
      ],
      "execution_count": null,
      "outputs": []
    },
    {
      "cell_type": "markdown",
      "metadata": {
        "id": "-B7S_GiyP2nv"
      },
      "source": [
        "# A quiz for you"
      ]
    },
    {
      "cell_type": "code",
      "metadata": {
        "id": "IRs3thWv_eKn"
      },
      "source": [
        "_ _ _ _ _ _ # Fill in the blank\n",
        "\n",
        "print(_)"
      ],
      "execution_count": null,
      "outputs": []
    },
    {
      "cell_type": "markdown",
      "metadata": {
        "id": "oltAM99jZDz-"
      },
      "source": [
        "# Creating an enumerate function using count and Zip"
      ]
    },
    {
      "cell_type": "code",
      "metadata": {
        "id": "C_kB2I6UZA6k"
      },
      "source": [
        "list(zip(count(), ['a', 'b', 'c']))"
      ],
      "execution_count": null,
      "outputs": []
    },
    {
      "cell_type": "markdown",
      "metadata": {
        "id": "J59-dqKoexST"
      },
      "source": [
        "# Beware, for with count can be breaksfree drive"
      ]
    },
    {
      "cell_type": "code",
      "metadata": {
        "id": "XIQb9udsaEsI"
      },
      "source": [
        "for i in count(start = 3, step=3):\n",
        "  if i > 31:\n",
        "    break\n",
        "  else:\n",
        "    print(i)\n",
        "\n",
        " #[print(i) for i in count(start = 3, step =3) if i < 31 ] #uncomment if you want to sit on breaksfree vehicle"
      ],
      "execution_count": null,
      "outputs": []
    },
    {
      "cell_type": "markdown",
      "metadata": {
        "id": "GHSiySs2z04h"
      },
      "source": [
        "# Count till infinity"
      ]
    },
    {
      "cell_type": "code",
      "metadata": {
        "id": "csBR5LIrz0Em"
      },
      "source": [
        "counter = it.count(start = 3, step = 3)\n",
        "list(next(counter) for _ in range(1, 11))"
      ],
      "execution_count": null,
      "outputs": []
    },
    {
      "cell_type": "code",
      "metadata": {
        "id": "ySgwORAG00oP"
      },
      "source": [
        "counter = it.count(start = 30, step = -3) #negative\n",
        "list(next(counter) for _ in range(1, 11))"
      ],
      "execution_count": null,
      "outputs": []
    },
    {
      "cell_type": "code",
      "metadata": {
        "id": "7HW64EYI02Um"
      },
      "source": [
        "counter = it.count(start = 3.0, step = 3) #non integer\n",
        "list(next(counter) for _ in range(1, 11))"
      ],
      "execution_count": null,
      "outputs": []
    },
    {
      "cell_type": "markdown",
      "metadata": {
        "id": "dX-YnqSuyT1P"
      },
      "source": [
        "# Repeat till infinity"
      ]
    },
    {
      "cell_type": "code",
      "metadata": {
        "id": "GCd2OTcjf5DW"
      },
      "source": [
        "counter = it.repeat(1)\n",
        "list(next(counter) for _ in range(5))"
      ],
      "execution_count": null,
      "outputs": []
    },
    {
      "cell_type": "markdown",
      "metadata": {
        "id": "4GjunATbyVa3"
      },
      "source": [
        "# Cycle till infinity "
      ]
    },
    {
      "cell_type": "code",
      "metadata": {
        "id": "WbYhFJSEgvRG"
      },
      "source": [
        "counter = it.cycle([1,2,3]) \n",
        "list(next(counter) for _ in range(5))"
      ],
      "execution_count": null,
      "outputs": []
    }
  ]
}