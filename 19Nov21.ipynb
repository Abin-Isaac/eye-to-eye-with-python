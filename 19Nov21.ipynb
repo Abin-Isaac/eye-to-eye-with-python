{
  "nbformat": 4,
  "nbformat_minor": 0,
  "metadata": {
    "colab": {
      "name": "19Nov21.ipynb",
      "private_outputs": true,
      "provenance": []
    },
    "kernelspec": {
      "name": "python3",
      "display_name": "Python 3"
    },
    "language_info": {
      "name": "python"
    }
  },
  "cells": [
    {
      "cell_type": "markdown",
      "metadata": {
        "id": "fU7LVL9VtmUN"
      },
      "source": [
        "Functional Programmming, High order function, Pure function , impure function, anonyomous function"
      ]
    },
    {
      "cell_type": "markdown",
      "metadata": {
        "id": "05a3xHMzvJ-Q"
      },
      "source": [
        "Pure Function"
      ]
    },
    {
      "cell_type": "code",
      "metadata": {
        "id": "dc0DqrlRtYm7"
      },
      "source": [
        "def pure_fun(x):\n",
        "  y=x*x\n",
        "  z=x+y\n",
        "  return z"
      ],
      "execution_count": null,
      "outputs": []
    },
    {
      "cell_type": "markdown",
      "metadata": {
        "id": "TPjNURskvIAO"
      },
      "source": [
        "Impure function "
      ]
    },
    {
      "cell_type": "code",
      "metadata": {
        "id": "epN7f6uiuXIo"
      },
      "source": [
        "other_list=[]\n",
        "def impure_func(x):\n",
        "  other_list.append(x)"
      ],
      "execution_count": null,
      "outputs": []
    },
    {
      "cell_type": "markdown",
      "metadata": {
        "id": "D8LEiVFKvb9H"
      },
      "source": [
        "lambda: The anonyomous function "
      ]
    },
    {
      "cell_type": "code",
      "metadata": {
        "id": "y3d6Zz1yvgke"
      },
      "source": [
        "a=(lambda x: x*x)(2)\n",
        "print(a)\n",
        "print(type(a)) #int"
      ],
      "execution_count": null,
      "outputs": []
    },
    {
      "cell_type": "markdown",
      "metadata": {
        "id": "y062-_KmxvWM"
      },
      "source": [
        "Lambda with print func"
      ]
    },
    {
      "cell_type": "code",
      "metadata": {
        "id": "7jbQGosfxXV3"
      },
      "source": [
        "print((lambda x: x*x)(2))"
      ],
      "execution_count": null,
      "outputs": []
    },
    {
      "cell_type": "markdown",
      "metadata": {
        "id": "10zvR94xyOFK"
      },
      "source": [
        "Crreating a named function with lambda but def method is better"
      ]
    },
    {
      "cell_type": "code",
      "metadata": {
        "id": "5QWSwNB0x_G9"
      },
      "source": [
        "a=lambda x: x*x\n",
        "print(type(a))   # function  "
      ],
      "execution_count": null,
      "outputs": []
    }
  ]
}
