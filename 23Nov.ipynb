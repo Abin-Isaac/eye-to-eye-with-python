{
  "nbformat": 4,
  "nbformat_minor": 0,
  "metadata": {
    "colab": {
      "name": "23Nov.ipynb",
      "private_outputs": true,
      "provenance": []
    },
    "kernelspec": {
      "name": "python3",
      "display_name": "Python 3"
    },
    "language_info": {
      "name": "python"
    }
  },
  "cells": [
    {
      "cell_type": "markdown",
      "metadata": {
        "id": "deLmHBLo3vlG"
      },
      "source": [
        "# 2 methods to check subset"
      ]
    },
    {
      "cell_type": "code",
      "metadata": {
        "id": "qha7LnVU4ASK"
      },
      "source": [
        "s={1,2,3}\n",
        "s1={1,2}"
      ],
      "execution_count": null,
      "outputs": []
    },
    {
      "cell_type": "code",
      "metadata": {
        "id": "lAllyjGf4Dy4"
      },
      "source": [
        "s1.issubset(s)"
      ],
      "execution_count": null,
      "outputs": []
    },
    {
      "cell_type": "code",
      "metadata": {
        "id": "zH8yF9NZ4IjI"
      },
      "source": [
        "s1<=s"
      ],
      "execution_count": null,
      "outputs": []
    },
    {
      "cell_type": "markdown",
      "metadata": {
        "id": "GcS6migP4Ojr"
      },
      "source": [
        "#Single way to check Proper subset"
      ]
    },
    {
      "cell_type": "code",
      "metadata": {
        "id": "sP4L7Acu4UEm"
      },
      "source": [
        "s1<s  # Realpython.com"
      ],
      "execution_count": null,
      "outputs": []
    },
    {
      "cell_type": "markdown",
      "metadata": {
        "id": "q5wD98s12tN4"
      },
      "source": [
        "#Set difference vs Symmetric difference"
      ]
    },
    {
      "cell_type": "code",
      "metadata": {
        "id": "duLscPc_1rTI"
      },
      "source": [
        "{1, 2, 3, 4, 5} - {3, 4} ^ {5, 6, 7}"
      ],
      "execution_count": null,
      "outputs": []
    },
    {
      "cell_type": "markdown",
      "metadata": {
        "id": "i9IXk05c20CH"
      },
      "source": [
        "'-' has greater precedence than '^' so set difference will be done first and then symmetric difference"
      ]
    },
    {
      "cell_type": "markdown",
      "metadata": {
        "id": "YJ9R77NJ5xR6"
      },
      "source": [
        "# 4 methods to remove an element from a set"
      ]
    },
    {
      "cell_type": "code",
      "metadata": {
        "id": "1CxPd-eS5-v5"
      },
      "source": [
        "s -= {3}\n",
        "s"
      ],
      "execution_count": null,
      "outputs": []
    },
    {
      "cell_type": "code",
      "metadata": {
        "id": "dor-DhV86Fqy"
      },
      "source": [
        "s.difference_update({3})\n",
        "s"
      ],
      "execution_count": null,
      "outputs": []
    },
    {
      "cell_type": "code",
      "metadata": {
        "id": "22Wsd8Vb6ILi"
      },
      "source": [
        "s.discard(3)\n",
        "s"
      ],
      "execution_count": null,
      "outputs": []
    },
    {
      "cell_type": "code",
      "metadata": {
        "id": "gQOXtpQi6Ka6"
      },
      "source": [
        "s &= {1,2}\n",
        "s"
      ],
      "execution_count": null,
      "outputs": []
    },
    {
      "cell_type": "markdown",
      "metadata": {
        "id": "rYPn3AWxedUs"
      },
      "source": [
        "# 4 ways to print first and last string together"
      ]
    },
    {
      "cell_type": "code",
      "metadata": {
        "id": "wDl83u8oeCMC"
      },
      "source": [
        "s='foobar'"
      ],
      "execution_count": null,
      "outputs": []
    },
    {
      "cell_type": "code",
      "metadata": {
        "id": "MN0MOvdYeKfP"
      },
      "source": [
        "s[::-1][-1] + s[len(s)-1]"
      ],
      "execution_count": null,
      "outputs": []
    },
    {
      "cell_type": "code",
      "metadata": {
        "id": "8-53eKWEeNFd"
      },
      "source": [
        "s[0] + s[-1]"
      ],
      "execution_count": null,
      "outputs": []
    },
    {
      "cell_type": "code",
      "metadata": {
        "id": "nJUk1RvzeQsP"
      },
      "source": [
        "s[::-1][::-5]"
      ],
      "execution_count": null,
      "outputs": []
    },
    {
      "cell_type": "code",
      "metadata": {
        "id": "tQoaa55SeT03"
      },
      "source": [
        "s[::5]"
      ],
      "execution_count": null,
      "outputs": []
    },
    {
      "cell_type": "markdown",
      "metadata": {
        "id": "LlMggCpymTmC"
      },
      "source": [
        "# Equality Checker (==) vs is"
      ]
    },
    {
      "cell_type": "code",
      "metadata": {
        "id": "L-wVALTAh8Pw"
      },
      "source": [
        "s='foo-bar-baz'\n",
        "s=s.strip('-')\n",
        "s"
      ],
      "execution_count": null,
      "outputs": []
    },
    {
      "cell_type": "code",
      "metadata": {
        "id": "9fSYOVZYl2r_"
      },
      "source": [
        "s[::-1][::-1] == s"
      ],
      "execution_count": null,
      "outputs": []
    },
    {
      "cell_type": "code",
      "metadata": {
        "id": "0V2UYhtRl4nI"
      },
      "source": [
        "s[:] == s"
      ],
      "execution_count": null,
      "outputs": []
    },
    {
      "cell_type": "code",
      "metadata": {
        "id": "YR6k5Ja0l6vw"
      },
      "source": [
        "s[::-1][::-1] is s"
      ],
      "execution_count": null,
      "outputs": []
    },
    {
      "cell_type": "code",
      "metadata": {
        "id": "CJ3O8KIKl-fi"
      },
      "source": [
        "s[:] is s"
      ],
      "execution_count": null,
      "outputs": []
    }
  ]
}