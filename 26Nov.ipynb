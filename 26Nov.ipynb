{
  "nbformat": 4,
  "nbformat_minor": 0,
  "metadata": {
    "colab": {
      "name": "26Nov.ipynb",
      "private_outputs": true,
      "provenance": []
    },
    "kernelspec": {
      "name": "python3",
      "display_name": "Python 3"
    },
    "language_info": {
      "name": "python"
    }
  },
  "cells": [
    {
      "cell_type": "markdown",
      "metadata": {
        "id": "J20DiCV6SmXJ"
      },
      "source": [
        "#sort method makes a permanent change "
      ]
    },
    {
      "cell_type": "code",
      "metadata": {
        "id": "2ERMf0NSSfZM"
      },
      "source": [
        "x = [8, 5, 42, 11, 20, 4]\n",
        "x.sort() \n",
        "print(max(x)-min(x)+x[2])"
      ],
      "execution_count": null,
      "outputs": []
    },
    {
      "cell_type": "markdown",
      "metadata": {
        "id": "Xzq-DMBV2YqB"
      },
      "source": [
        "#Get method in dictionary "
      ]
    },
    {
      "cell_type": "code",
      "metadata": {
        "id": "I2INDDk_VMa1"
      },
      "source": [
        "a={'a':1,'b':3}\n",
        "a.get(7,42)\n",
        "a.get('b')\n"
      ],
      "execution_count": null,
      "outputs": []
    },
    {
      "cell_type": "code",
      "metadata": {
        "id": "ZLupXFebWWck"
      },
      "source": [
        "fib = {1: 1, 2: 1, 3: 2, 4: 3}\n",
        "print(fib.get(4, 0) + fib.get(7, 5)) # will check key 4 and if there is a value then we will give that or else we will go wqith 0"
      ],
      "execution_count": null,
      "outputs": []
    },
    {
      "cell_type": "markdown",
      "metadata": {
        "id": "xctFCmiJ2dKw"
      },
      "source": [
        "# WAP to calculate average of a letter in a word"
      ]
    },
    {
      "cell_type": "code",
      "metadata": {
        "id": "bO1tWvyTSnYH"
      },
      "source": [
        "text = input()\n",
        "total_words = 0 \n",
        "total_letters = 0\n",
        "for i in text.split():\n",
        "    total_words += 1\n",
        "    total_letters += len(i) \n",
        "print(total_letters, 'and', total_words)\n",
        "print(total_letters/total_words)\n"
      ],
      "execution_count": null,
      "outputs": []
    },
    {
      "cell_type": "markdown",
      "metadata": {
        "id": "Shs-1GsS9DCk"
      },
      "source": [
        "#Tuple unpacking"
      ]
    },
    {
      "cell_type": "code",
      "metadata": {
        "id": "_qNG2Ixm9CIJ"
      },
      "source": [
        "a = 1,2,3\n",
        "a,b,c = a # Unpacking the tuple a \n",
        "print(a,b,c)"
      ],
      "execution_count": null,
      "outputs": []
    },
    {
      "cell_type": "code",
      "metadata": {
        "id": "-EK8bbO098ZU"
      },
      "source": [
        "a = 1,2,3,4,5\n",
        "*a,b,c = a # Unpacking the tuple a using asterisk\n",
        "print(a,b,c)"
      ],
      "execution_count": null,
      "outputs": []
    },
    {
      "cell_type": "markdown",
      "metadata": {
        "id": "SeaaMu4hIVor"
      },
      "source": [
        "# WAP to calculate the new revenue based on discount age entered"
      ]
    },
    {
      "cell_type": "code",
      "metadata": {
        "id": "wLMKjPulCk2H"
      },
      "source": [
        "data = {\n",
        "    \"100-90\": 25, \"42-01\": 48, \"55-09\": 12, \"128-64\": 71, \"002-22\": 18, \"321-54\": 19, \"097-32\": 33, \"065-135\": 64, \"99-043\": 80, \"111-99\": 11, \"123-019\": 5, \"109-890\": 72, \"132-123\": 27, \"32-908\": 27, \"008-09\": 25, \"055-967\": 35, \"897-99\": 44, \"890-98\": 56, \"344-32\": 65, \"43-955\": 59, \"001-233\": 9, \"089-111\": 15, \"090-090\": 17, \"56-777\": 23, \"44-909\": 27, \"13-111\": 21, \"87-432\": 15, \"87-433\": 14, \"87-434\": 23, \"87-435\": 11, \"87-436\": 12, \"87-437\": 16, \"94-121\": 15, \"94-122\": 35, \"80-089\": 10, \"87-456\": 8, \"87-430\": 40\n",
        "}\n",
        "age = int(input())\n",
        "\n",
        "revenue = 0\n",
        "new_revenue = 0\n",
        "for value in data.values():\n",
        "  if value >= 18:\n",
        "    revenue += 20\n",
        "  else:\n",
        "    revenue += 5\n",
        "\n",
        "for value in data.values():\n",
        "  if value >= age:\n",
        "    new_revenue += 20\n",
        "  else:\n",
        "    new_revenue += 5 \n",
        "print(int(((new_revenue - revenue)/revenue)*100))\n",
        "\n",
        "\n",
        "\n"
      ],
      "execution_count": null,
      "outputs": []
    }
  ]
}