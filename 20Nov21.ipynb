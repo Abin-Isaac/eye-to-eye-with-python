{
  "nbformat": 4,
  "nbformat_minor": 0,
  "metadata": {
    "colab": {
      "name": "20Nov21.ipynb",
      "private_outputs": true,
      "provenance": []
    },
    "kernelspec": {
      "name": "python3",
      "display_name": "Python 3"
    },
    "language_info": {
      "name": "python"
    }
  },
  "cells": [
    
    {
      "cell_type": "markdown",
      "metadata": {
        "id": "bzCwiXmTo1zZ"
      },
      "source": [
        "using map high order fucntion "
      ]
    },
    {
      "cell_type": "code",
      "metadata": {
        "id": "6bzk0eMPoLzR"
      },
      "source": [
        "def a_function(x):\n",
        "  return x*x\n",
        "a_list=[1,2,3,4,5]\n",
        "\n",
        "print(list(map(a_function, a_list)))"
      ],
      "execution_count": null,
      "outputs": []
    },
    {
      "cell_type": "markdown",
      "metadata": {
        "id": "iENqvUf2o8jd"
      },
      "source": [
        "using map with lambda more easier !"
      ]
    },
    {
      "cell_type": "code",
      "metadata": {
        "id": "rz8c1f8eoLsj"
      },
      "source": [
        "print(list(map(lambda x: x*x, a_list)))"
      ],
      "execution_count": null,
      "outputs": []
    },
    {
      "cell_type": "markdown",
      "metadata": {
        "id": "BjBhWvTcqCCm"
      },
      "source": [
        "filter high order fucntion ....applys a certian boolean condition and returns the remaining "
      ]
    },
    {
      "cell_type": "code",
      "metadata": {
        "id": "DI1eCdgQoLpI"
      },
      "source": [
        "print(list(map(lambda x: x%2==0, a_list)))"
      ],
      "execution_count": null,
      "outputs": []
    },
    {
      "cell_type": "markdown",
      "metadata": {
        "id": "yqlEMElxqk19"
      },
      "source": [
        "list conversion is required in both of the functions."
      ]
    }
  ]
}